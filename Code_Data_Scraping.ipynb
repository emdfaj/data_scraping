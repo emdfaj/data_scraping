{
 "cells": [
  {
   "cell_type": "code",
   "execution_count": 101,
   "id": "d9337bdd",
   "metadata": {},
   "outputs": [],
   "source": [
    "import pandas as pd\n",
    "import time\n",
    "from selenium import webdriver\n",
    "from selenium.webdriver.common.keys import Keys\n",
    "from webdriver_manager.chrome import ChromeDriverManager\n",
    "from selenium.webdriver.common.by import By\n",
    "from selenium.webdriver.support import expected_conditions as EC\n",
    "from selenium.webdriver.support.ui import WebDriverWait\n"
   ]
  },
  {
   "cell_type": "code",
   "execution_count": 269,
   "id": "7325f0c9",
   "metadata": {},
   "outputs": [
    {
     "name": "stderr",
     "output_type": "stream",
     "text": [
      "C:\\Users\\emdfa\\AppData\\Local\\Temp/ipykernel_27612/1503906442.py:1: DeprecationWarning: executable_path has been deprecated, please pass in a Service object\n",
      "  driver = webdriver.Chrome(ChromeDriverManager().install())\n"
     ]
    }
   ],
   "source": [
    "# Create an instance of Chrome\n",
    "driver = webdriver.Chrome(ChromeDriverManager().install())"
   ]
  },
  {
   "cell_type": "code",
   "execution_count": 289,
   "id": "ddfd5825",
   "metadata": {},
   "outputs": [],
   "source": [
    "# Load the website\n",
    "url = \"https://idbop.mylicense.com/verification/Search.aspx\"\n",
    "driver.get(url)"
   ]
  },
  {
   "cell_type": "code",
   "execution_count": 290,
   "id": "ad3d7528",
   "metadata": {},
   "outputs": [
    {
     "name": "stdout",
     "output_type": "stream",
     "text": [
      "Enter the first letter of the Last name you want to generate:l\n"
     ]
    }
   ],
   "source": [
    "# Asking for an input (First letter of the last name)\n",
    "\n",
    "char = input('Enter the first letter of the Last name you want to generate:')"
   ]
  },
  {
   "cell_type": "code",
   "execution_count": 291,
   "id": "0b59f9f0",
   "metadata": {},
   "outputs": [],
   "source": [
    "# Find the element (by name) for the last name text box\n",
    "# Enter the input (char) to the text box\n",
    "\n",
    "l = driver.find_element(By.NAME, \"t_web_lookup__last_name\")\n",
    "l.send_keys(char)\n",
    "l.send_keys(Keys.RETURN)"
   ]
  },
  {
   "cell_type": "code",
   "execution_count": 292,
   "id": "37b1149d",
   "metadata": {},
   "outputs": [],
   "source": [
    "# Function for divisibility\n",
    "# Will be used for switching pages\n",
    "\n",
    "def divisible(m):\n",
    "    return True if m % 40 == 0 else False"
   ]
  },
  {
   "cell_type": "code",
   "execution_count": 293,
   "id": "30ba80de",
   "metadata": {},
   "outputs": [
    {
     "name": "stdout",
     "output_type": "stream",
     "text": [
      "done\n",
      "Total pages = 66\n"
     ]
    }
   ],
   "source": [
    "# create an array info_list\n",
    "info_list = []\n",
    "\n",
    "# 'try' for handling errors, and to automate the break of scraping\n",
    "\n",
    "try:\n",
    "    a = 1\n",
    "    while a<1000:\n",
    "        try:\n",
    "            for k in range(3, 43, 1):\n",
    "                name = driver.find_element(By.ID, \"datagrid_results__ctl\"+str(k)+\"_name\")\n",
    "                link = name.get_attribute('href')\n",
    "                driver.get(link)\n",
    "\n",
    "                first_name = driver.find_element(By.ID, \"_ctl27__ctl1_first_name\").text\n",
    "                middle_name = driver.find_element(By.ID, \"_ctl27__ctl1_m_name\").text\n",
    "                last_name = driver.find_element(By.ID, \"_ctl27__ctl1_last_name\").text\n",
    "                license_number = driver.find_element(By.XPATH, \"//span[@id='_ctl36__ctl1_license_no' or @id='_ctl39__ctl1_license_no']\").text\n",
    "                license_type = driver.find_element(By.XPATH, \"//span[@id='_ctl36__ctl1_license_type' or @id='_ctl39__ctl1_license_type']\").text\n",
    "                status = driver.find_element(By.XPATH, \"//span[@id='_ctl36__ctl1_status' or @id='_ctl39__ctl1_status']\").text\n",
    "                orig_issued_date = driver.find_element(By.XPATH, \"//span[@id='_ctl36__ctl1_issue_date' or @id='_ctl39__ctl1_issue_date']\").text\n",
    "                expiry = driver.find_element(By.XPATH, \"//span[@id='_ctl36__ctl1_expiry' or @id='_ctl39__ctl1_expiry']\").text\n",
    "                renewed = driver.find_element(By.XPATH, \"//span[@id='_ctl36__ctl1_last_ren' or @id='_ctl39__ctl1_last_ren']\").text\n",
    "\n",
    "                info_item = {\n",
    "                    'Last_name':last_name,\n",
    "                    'First_name':first_name,\n",
    "                    'Middle_name':middle_name,\n",
    "                    'License_number':license_number,\n",
    "                    'License_type':license_type,\n",
    "                    'Status':status,\n",
    "                    'Original_issued_date':orig_issued_date,\n",
    "                    'Expiry_date':expiry,\n",
    "                    'Renewed_date':renewed\n",
    "                }\n",
    "\n",
    "                info_list.append(info_item)\n",
    "                #print(first_name, middle_name, last_name, license_number, license_type, status, orig_issued_date, expiry, renewed)\n",
    "\n",
    "                driver.back()\n",
    "        except:\n",
    "            print(\"done\")\n",
    "        \n",
    "        if divisible(a):\n",
    "            driver.find_element(By.XPATH, \"//td/a[text()='...']\").click()\n",
    "            time.sleep(3)\n",
    "            driver.find_element(By.XPATH, \"//td/a[text()='\"+str(a+2)+\"']\").click()\n",
    "        time.sleep(3)\n",
    "        \n",
    "        a+=1\n",
    "        \n",
    "        # use of WebDriverWait to pause for a certain length of time before moving onto the next step\n",
    "        WebDriverWait(driver, 6).until(EC.element_to_be_clickable((By.XPATH,\"//td/a[text()='\"+str(a)+\"']\")))\n",
    "        data = driver.find_element(By.XPATH, \"//td/a[text()='\"+str(a)+\"']\").click()\n",
    "        time.sleep(3) \n",
    "       \n",
    "except:\n",
    "    print(\"Total pages =\", a-1)"
   ]
  },
  {
   "cell_type": "code",
   "execution_count": 294,
   "id": "ba4d3275",
   "metadata": {},
   "outputs": [
    {
     "name": "stdout",
     "output_type": "stream",
     "text": [
      "       Last_name First_name Middle_name License_number  \\\n",
      "0        La Ford     Warata                    TT56860   \n",
      "1     La Riviere     Sandra        Faye        CT46524   \n",
      "2     La Riviere     Sandra        Faye        CT59813   \n",
      "3             La      Abbie     Anh-Buu          P8571   \n",
      "4          Labar   Charlene                    CT68384   \n",
      "...          ...        ...         ...            ...   \n",
      "2598       LYTLE       PAUL           T        CS46139   \n",
      "2599       LYTLE       RYAN           F         EI3484   \n",
      "2600       LYTLE       RYAN           F          T4193   \n",
      "2601       LYTLE       RYAN           F          P6435   \n",
      "2602         Lyu       Sora                      P8855   \n",
      "\n",
      "                           License_type                Status  \\\n",
      "0                   Pharmacy Technician                Active   \n",
      "1         Certified Pharmacy Technician               Expired   \n",
      "2         Certified Pharmacy Technician                Active   \n",
      "3                            Pharmacist               Expired   \n",
      "4         Certified Pharmacy Technician                Active   \n",
      "...                                 ...                   ...   \n",
      "2598  Practitioner Controlled Substance  Expired - Fee Exempt   \n",
      "2599                   Intern - Student               Expired   \n",
      "2600                Pharmacy Technician             Cancelled   \n",
      "2601                         Pharmacist                Active   \n",
      "2602                         Pharmacist                Active   \n",
      "\n",
      "     Original_issued_date Expiry_date Renewed_date  \n",
      "0               1/14/2020   2/28/2023     2/7/2022  \n",
      "1              10/11/2017   6/30/2020     7/2/2019  \n",
      "2               11/3/2020   6/30/2023    6/23/2022  \n",
      "3              10/10/2019   4/30/2020               \n",
      "4              10/17/2022   5/31/2023               \n",
      "...                   ...         ...          ...  \n",
      "2598            8/17/2017  12/31/2018     1/1/2018  \n",
      "2599            9/29/2006   7/15/2010    9/29/2006  \n",
      "2600           12/12/2005    7/1/2008     7/1/2008  \n",
      "2601            7/21/2010   5/31/2023    5/16/2022  \n",
      "2602            6/17/2020   4/30/2023    3/31/2022  \n",
      "\n",
      "[2603 rows x 9 columns]\n"
     ]
    }
   ],
   "source": [
    "# Final DataFrame\n",
    "\n",
    "df = pd.DataFrame(info_list)\n",
    "print(df)\n"
   ]
  },
  {
   "cell_type": "code",
   "execution_count": 295,
   "id": "ad5a7ea6",
   "metadata": {},
   "outputs": [],
   "source": [
    "# Saved as csv file, local to my computer\n",
    "\n",
    "df.to_csv(\"C:/Users/emdfa/Desktop/Exercises/Data_Scraping_Test.csv\")"
   ]
  },
  {
   "cell_type": "code",
   "execution_count": null,
   "id": "c9c3b15f",
   "metadata": {},
   "outputs": [],
   "source": []
  }
 ],
 "metadata": {
  "kernelspec": {
   "display_name": "Python 3 (ipykernel)",
   "language": "python",
   "name": "python3"
  },
  "language_info": {
   "codemirror_mode": {
    "name": "ipython",
    "version": 3
   },
   "file_extension": ".py",
   "mimetype": "text/x-python",
   "name": "python",
   "nbconvert_exporter": "python",
   "pygments_lexer": "ipython3",
   "version": "3.9.7"
  }
 },
 "nbformat": 4,
 "nbformat_minor": 5
}
